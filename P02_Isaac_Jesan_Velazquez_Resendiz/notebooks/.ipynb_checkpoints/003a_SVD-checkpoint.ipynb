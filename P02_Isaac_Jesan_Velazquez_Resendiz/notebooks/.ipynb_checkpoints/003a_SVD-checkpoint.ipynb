{
 "cells": [
  {
   "cell_type": "code",
   "execution_count": 2,
   "id": "b64e6181",
   "metadata": {},
   "outputs": [],
   "source": [
    "import numpy as np\n",
    "import matplotlib.pyplot as plt\n",
    "#import tensorflow as tf"
   ]
  },
  {
   "cell_type": "code",
   "execution_count": 3,
   "id": "988c9089",
   "metadata": {},
   "outputs": [],
   "source": [
    "# E_policarbonato = 2.2 GPa\n",
    "# Link: https://designerdata.nl/materials/plastics/thermo-plastics/polycarbonate\n",
    "u = np.loadtxt('../data/DatosG3/u.txt')\n",
    "v = np.loadtxt('../data/DatosG3/v.txt')"
   ]
  },
  {
   "cell_type": "code",
   "execution_count": 4,
   "id": "43271bf0",
   "metadata": {},
   "outputs": [],
   "source": [
    "#ut = tf.convert_to_tensor(u)"
   ]
  },
  {
   "cell_type": "code",
   "execution_count": 35,
   "id": "9587527c",
   "metadata": {},
   "outputs": [],
   "source": [
    "ug = np.array(np.gradient(u))"
   ]
  },
  {
   "cell_type": "code",
   "execution_count": 36,
   "id": "faf61c3e",
   "metadata": {},
   "outputs": [
    {
     "data": {
      "text/plain": [
       "(2, 92, 110)"
      ]
     },
     "execution_count": 36,
     "metadata": {},
     "output_type": "execute_result"
    }
   ],
   "source": [
    "p = ug.reshape((92,220))\n",
    "ug.shape"
   ]
  },
  {
   "cell_type": "code",
   "execution_count": null,
   "id": "edc6b3c0",
   "metadata": {},
   "outputs": [],
   "source": []
  }
 ],
 "metadata": {
  "kernelspec": {
   "display_name": "Python 3",
   "language": "python",
   "name": "python3"
  },
  "language_info": {
   "codemirror_mode": {
    "name": "ipython",
    "version": 3
   },
   "file_extension": ".py",
   "mimetype": "text/x-python",
   "name": "python",
   "nbconvert_exporter": "python",
   "pygments_lexer": "ipython3",
   "version": "3.9.4"
  }
 },
 "nbformat": 4,
 "nbformat_minor": 5
}
