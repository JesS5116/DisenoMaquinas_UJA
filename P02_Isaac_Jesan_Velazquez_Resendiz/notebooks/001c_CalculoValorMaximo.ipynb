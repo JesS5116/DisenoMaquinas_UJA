{
 "cells": [
  {
   "cell_type": "code",
   "execution_count": null,
   "id": "ef51cb66",
   "metadata": {},
   "outputs": [],
   "source": [
    "import numpy as np\n",
    "import matplotlib.pyplot as plt"
   ]
  },
  {
   "cell_type": "code",
   "execution_count": null,
   "id": "df1498a7",
   "metadata": {},
   "outputs": [],
   "source": [
    "u = (np.loadtxt('../data/DatosG3/u.txt'))/1.85\n",
    "v = np.loadtxt('../data/DatosG3/v.txt')"
   ]
  },
  {
   "cell_type": "code",
   "execution_count": null,
   "id": "aa428a3d",
   "metadata": {},
   "outputs": [],
   "source": [
    "# Pixel de en medio es 46,55\n",
    "# Relacion pixel-mm es 1.85 pix/mm\n",
    "v.shape"
   ]
  },
  {
   "cell_type": "code",
   "execution_count": null,
   "id": "8b6b0f09",
   "metadata": {},
   "outputs": [],
   "source": []
  }
 ],
 "metadata": {
  "kernelspec": {
   "display_name": "Python 3",
   "language": "python",
   "name": "python3"
  },
  "language_info": {
   "codemirror_mode": {
    "name": "ipython",
    "version": 3
   },
   "file_extension": ".py",
   "mimetype": "text/x-python",
   "name": "python",
   "nbconvert_exporter": "python",
   "pygments_lexer": "ipython3",
   "version": "3.9.4"
  }
 },
 "nbformat": 4,
 "nbformat_minor": 5
}
